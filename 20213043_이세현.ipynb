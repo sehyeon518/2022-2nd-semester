{
  "nbformat": 4,
  "nbformat_minor": 0,
  "metadata": {
    "colab": {
      "provenance": [],
      "collapsed_sections": []
    },
    "kernelspec": {
      "name": "python3",
      "display_name": "Python 3"
    },
    "language_info": {
      "name": "python"
    }
  },
  "cells": [
    {
      "cell_type": "code",
      "source": [
        "import torch"
      ],
      "metadata": {
        "id": "wNJo_GZ9GM8k"
      },
      "execution_count": 1,
      "outputs": []
    },
    {
      "cell_type": "code",
      "source": [
        "x = torch.tensor([[1,2,3], [4,5,6], [7,8,9]], dtype=torch.int)\n",
        "# x = torch.IntTensor([[1,2,3], [4,5,6], [7,8,9]])\n",
        "\n",
        "print(\"tensor의 모양 알아보기\")\n",
        "print(\"x =\\n\", x)\n",
        "print(\"x.type() =\", x.type())"
      ],
      "metadata": {
        "colab": {
          "base_uri": "https://localhost:8080/"
        },
        "id": "DucSvE5DE1tj",
        "outputId": "bbf234ed-b835-4357-b464-3a80def03206"
      },
      "execution_count": 2,
      "outputs": [
        {
          "output_type": "stream",
          "name": "stdout",
          "text": [
            "tensor의 모양 알아보기\n",
            "x =\n",
            " tensor([[1, 2, 3],\n",
            "        [4, 5, 6],\n",
            "        [7, 8, 9]], dtype=torch.int32)\n",
            "x.type() = torch.IntTensor\n"
          ]
        }
      ]
    },
    {
      "cell_type": "code",
      "source": [
        "print(\"rank 알아보기\")\n",
        "print(\"x.shape        =\", x.shape)\n",
        "print(\"x.size()       =\", x.size())\n",
        "print(\"len(x.shape)   =\", len(x.shape))\n",
        "print(\"x.ndimension() =\", x.ndimension())\n",
        "print(\"x.ndim         =\", x.ndim)"
      ],
      "metadata": {
        "colab": {
          "base_uri": "https://localhost:8080/"
        },
        "id": "migo8-dhKQr-",
        "outputId": "36da467b-888c-4b8e-ad99-3d49e7b52dff"
      },
      "execution_count": 3,
      "outputs": [
        {
          "output_type": "stream",
          "name": "stdout",
          "text": [
            "rank 알아보기\n",
            "x.shape        = torch.Size([3, 3])\n",
            "x.size()       = torch.Size([3, 3])\n",
            "len(x.shape)   = 2\n",
            "x.ndimension() = 2\n",
            "x.ndim         = 2\n"
          ]
        }
      ]
    },
    {
      "cell_type": "code",
      "source": [
        "print(\"텐서 모양 바꾸기\")\n",
        "x0 = torch.unsqueeze(x, 0)\n",
        "x1 = torch.unsqueeze(x, 1)\n",
        "x2 = torch.unsqueeze(x, 2)\n",
        "\n",
        "print(\"x0 =\\n\", x0, sep=\"\")\n",
        "print(\"x0.shape =\", x0.shape, \"\\n\")\n",
        "print(\"x1 =\\n\", x1, sep=\"\")\n",
        "print(\"x1.shape =\", x1.shape, \"\\n\")\n",
        "print(\"x2 =\\n\", x2, sep=\"\")\n",
        "print(\"x2.shape =\", x2.shape)"
      ],
      "metadata": {
        "colab": {
          "base_uri": "https://localhost:8080/"
        },
        "id": "AeqyrFy4KZG3",
        "outputId": "35ae1d21-38c9-442d-84e3-5ab159d7cc49"
      },
      "execution_count": 14,
      "outputs": [
        {
          "output_type": "stream",
          "name": "stdout",
          "text": [
            "텐서 모양 바꾸기\n",
            "x0 =\n",
            "tensor([[[1, 2, 3],\n",
            "         [4, 5, 6],\n",
            "         [7, 8, 9]]], dtype=torch.int32)\n",
            "x0.shape = torch.Size([1, 3, 3]) \n",
            "\n",
            "x1 =\n",
            "tensor([[[1, 2, 3]],\n",
            "\n",
            "        [[4, 5, 6]],\n",
            "\n",
            "        [[7, 8, 9]]], dtype=torch.int32)\n",
            "x1.shape = torch.Size([3, 1, 3]) \n",
            "\n",
            "x2 =\n",
            "tensor([[[1],\n",
            "         [2],\n",
            "         [3]],\n",
            "\n",
            "        [[4],\n",
            "         [5],\n",
            "         [6]],\n",
            "\n",
            "        [[7],\n",
            "         [8],\n",
            "         [9]]], dtype=torch.int32)\n",
            "x2.shape = torch.Size([3, 3, 1])\n"
          ]
        }
      ]
    },
    {
      "cell_type": "code",
      "source": [
        "x3 = torch.squeeze(torch.squeeze(x0))\n",
        "print(\"x3 =\\n\", x3, sep=\"\")\n",
        "print(\"x3.shape =\", x3.shape)"
      ],
      "metadata": {
        "colab": {
          "base_uri": "https://localhost:8080/"
        },
        "id": "5UF5DjouvAsr",
        "outputId": "a7cc1943-dc0c-4e82-fc48-08860ea25745"
      },
      "execution_count": 11,
      "outputs": [
        {
          "output_type": "stream",
          "name": "stdout",
          "text": [
            "x3 =\n",
            "tensor([[1, 2, 3],\n",
            "        [4, 5, 6],\n",
            "        [7, 8, 9]], dtype=torch.int32)\n",
            "x3.shape = torch.Size([3, 3])\n"
          ]
        }
      ]
    },
    {
      "cell_type": "code",
      "source": [
        "x4 = x.view(9)\n",
        "print(\"x4 =\\n\", x4, sep=\"\")\n",
        "print(\"x4.shape =\", x4.shape, \"\\n\")\n",
        "\n",
        "x5 = x.view(1,3,3)\n",
        "print(\"x5 =\\n\", x5, sep=\"\")\n",
        "print(\"x5.shape =\", x5.shape)"
      ],
      "metadata": {
        "colab": {
          "base_uri": "https://localhost:8080/"
        },
        "id": "6WH_UTryw7KP",
        "outputId": "487cc9a7-8be1-4fa3-8bf9-1cdeed16e67f"
      },
      "execution_count": 16,
      "outputs": [
        {
          "output_type": "stream",
          "name": "stdout",
          "text": [
            "x4 =\n",
            "tensor([1, 2, 3, 4, 5, 6, 7, 8, 9], dtype=torch.int32)\n",
            "x4.shape = torch.Size([9]) \n",
            "\n",
            "x5 =\n",
            "tensor([[[1, 2, 3],\n",
            "         [4, 5, 6],\n",
            "         [7, 8, 9]]], dtype=torch.int32)\n",
            "x5.shape = torch.Size([1, 3, 3])\n"
          ]
        }
      ]
    },
    {
      "cell_type": "code",
      "source": [
        "print(\"행렬 연산\")\n",
        "x = torch.FloatTensor([[1,2], [3,4], [5,6]]) # 3 x 2\n",
        "w = torch.randn(1,2, dtype=torch.float)      # (1 x 2) T\n",
        "b = torch.randn(3,1, dtype=torch.float)\n",
        "\n",
        "print(\"x * w + b =\")\n",
        "print(torch.mm(x, torch.t(w)) + b) # torch.mm(x, w.T) + b\n",
        "print((x * w).sum(axis=1).view(3,1) + b)"
      ],
      "metadata": {
        "colab": {
          "base_uri": "https://localhost:8080/"
        },
        "id": "1SAqv51PyVCN",
        "outputId": "b91e919a-32d7-4a6b-bb15-f8000972b5e0"
      },
      "execution_count": 23,
      "outputs": [
        {
          "output_type": "stream",
          "name": "stdout",
          "text": [
            "행렬 연산\n",
            "x * w + b =\n",
            "tensor([[2.2450],\n",
            "        [2.9820],\n",
            "        [6.0972]])\n",
            "tensor([[2.2450],\n",
            "        [2.9820],\n",
            "        [6.0972]])\n"
          ]
        }
      ]
    },
    {
      "cell_type": "code",
      "source": [
        "print(\"기울기 계산\")\n",
        "w = torch.tensor(1.9, requires_grad=True)\n",
        "a = w*3\n",
        "l = a**2\n",
        "l.backward()\n",
        "print('1을 w로 미분한 값은', w.grad)"
      ],
      "metadata": {
        "colab": {
          "base_uri": "https://localhost:8080/"
        },
        "id": "IcBQltn52Pgl",
        "outputId": "27439aea-8c67-489a-c212-873c17973574"
      },
      "execution_count": 25,
      "outputs": [
        {
          "output_type": "stream",
          "name": "stdout",
          "text": [
            "기울기 계산\n",
            "1을 w로 미분한 값은 tensor(34.2000)\n"
          ]
        }
      ]
    },
    {
      "cell_type": "code",
      "source": [
        "print(\"Linear Regression\")\n",
        "\n",
        "x = torch.FloatTensor([[1,2], [3,2], [3,7], [1,1], [1,0]])\n",
        "y = torch.FloatTensor([[4], [8], [23], [1], [-2]])\n",
        "\n",
        "W = torch.zeros(2,1)\n",
        "b = torch.zeros(1)\n",
        "\n",
        "lr = 0.01\n",
        "\n",
        "for epoch in range(10000):\n",
        "  W.requires_grad_(True)\n",
        "  b.requires_grad_(True)\n",
        "\n",
        "  h = torch.mm(x, W) + b\n",
        "  cost = torch.mean((h - y) ** 2)\n",
        "\n",
        "  cost.backward()\n",
        "  with torch.no_grad():\n",
        "    W = W - lr * W.grad\n",
        "    b = b - lr * b.grad\n",
        "\n",
        "    if epoch%1000 == 0:\n",
        "      print(f\"W: {W}, b: {b}, cost: {cost}\")"
      ],
      "metadata": {
        "colab": {
          "base_uri": "https://localhost:8080/"
        },
        "id": "2FWOg27D2jTm",
        "outputId": "78bfbcac-73d9-4fdf-e33d-4c61735a2a87"
      },
      "execution_count": 37,
      "outputs": [
        {
          "output_type": "stream",
          "name": "stdout",
          "text": [
            "Linear Regression\n",
            "W: tensor([[0.3840],\n",
            "        [0.7440]]), b: tensor([0.1360]), cost: 122.80000305175781\n",
            "W: tensor([[1.9230],\n",
            "        [3.0139]]), b: tensor([-3.8739]), cost: 0.003685731440782547\n",
            "W: tensor([[1.9972],\n",
            "        [3.0005]]), b: tensor([-3.9955]), cost: 4.738011284644017e-06\n",
            "W: tensor([[1.9999],\n",
            "        [3.0000]]), b: tensor([-3.9998]), cost: 6.3765810409677215e-09\n",
            "W: tensor([[2.0000],\n",
            "        [3.0000]]), b: tensor([-4.0000]), cost: 2.817159838741645e-10\n",
            "W: tensor([[2.0000],\n",
            "        [3.0000]]), b: tensor([-4.0000]), cost: 2.817159838741645e-10\n",
            "W: tensor([[2.0000],\n",
            "        [3.0000]]), b: tensor([-4.0000]), cost: 2.817159838741645e-10\n",
            "W: tensor([[2.0000],\n",
            "        [3.0000]]), b: tensor([-4.0000]), cost: 2.817159838741645e-10\n",
            "W: tensor([[2.0000],\n",
            "        [3.0000]]), b: tensor([-4.0000]), cost: 2.817159838741645e-10\n",
            "W: tensor([[2.0000],\n",
            "        [3.0000]]), b: tensor([-4.0000]), cost: 2.817159838741645e-10\n"
          ]
        }
      ]
    },
    {
      "cell_type": "code",
      "source": [
        "x_test = torch.tensor([[5,10]], dtype=torch.float)\n",
        "test_result = torch.mm(x_test, W) + b\n",
        "print(test_result)"
      ],
      "metadata": {
        "colab": {
          "base_uri": "https://localhost:8080/"
        },
        "id": "lrlmGEGU6lIA",
        "outputId": "d0af4dd6-a29d-4c30-e002-51637402f6be"
      },
      "execution_count": 38,
      "outputs": [
        {
          "output_type": "stream",
          "name": "stdout",
          "text": [
            "tensor([[36.0000]])\n"
          ]
        }
      ]
    },
    {
      "cell_type": "code",
      "source": [
        "from sklearn.linear_model import LinearRegression\n",
        "\n",
        "print(\"Scikit-learn\")\n",
        "\n",
        "x = [[1,2], [3,2], [3,7], [1,1], [1,0]]\n",
        "y = [[4], [8], [23], [1], [-2]]\n",
        "\n",
        "model = LinearRegression()\n",
        "model.fit(x,y)\n",
        "\n",
        "print(model.coef_, model.intercept_)\n",
        "\n",
        "print(\"y 값 예측하기\")\n",
        "print(model.predict([[5,10]]))"
      ],
      "metadata": {
        "colab": {
          "base_uri": "https://localhost:8080/"
        },
        "id": "PiPsKgyp7Grm",
        "outputId": "4cb16797-c884-467c-c988-7aec6e22699d"
      },
      "execution_count": 44,
      "outputs": [
        {
          "output_type": "stream",
          "name": "stdout",
          "text": [
            "Scikit-learn\n",
            "[[2. 3.]] [-4.]\n",
            "y 값 예측하기\n",
            "[[36.]]\n"
          ]
        }
      ]
    }
  ]
}