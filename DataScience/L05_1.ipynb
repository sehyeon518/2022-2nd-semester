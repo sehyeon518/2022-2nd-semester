{
  "nbformat": 4,
  "nbformat_minor": 0,
  "metadata": {
    "colab": {
      "provenance": [],
      "collapsed_sections": []
    },
    "kernelspec": {
      "name": "python3",
      "display_name": "Python 3"
    },
    "language_info": {
      "name": "python"
    }
  },
  "cells": [
    {
      "cell_type": "code",
      "execution_count": 7,
      "metadata": {
        "colab": {
          "base_uri": "https://localhost:8080/"
        },
        "id": "bVQOtRx3ICBZ",
        "outputId": "788d81d8-66ba-45aa-bdee-63bc5d7fa567"
      },
      "outputs": [
        {
          "output_type": "stream",
          "name": "stdout",
          "text": [
            "W: tensor([[0.3088]]), b: tensor([[0.1771]]), cost: 0.937829315662384\n",
            "W: tensor([[-1.4503]]), b: tensor([[4.4039]]), cost: 0.4202840030193329\n",
            "W: tensor([[-1.8979]]), b: tensor([[5.7721]]), cost: 0.3987405598163605\n",
            "W: tensor([[-2.1740]]), b: tensor([[6.6084]]), cost: 0.3908288776874542\n",
            "W: tensor([[-2.3671]]), b: tensor([[7.1908]]), cost: 0.38701316714286804\n",
            "W: tensor([[-2.5104]]), b: tensor([[7.6219]]), cost: 0.3849268853664398\n",
            "W: tensor([[-2.6206]]), b: tensor([[7.9527]]), cost: 0.38370028138160706\n",
            "W: tensor([[-2.7073]]), b: tensor([[8.2124]]), cost: 0.3829445540904999\n",
            "W: tensor([[-2.7765]]), b: tensor([[8.4197]]), cost: 0.3824634253978729\n",
            "W: tensor([[-2.8324]]), b: tensor([[8.5871]]), cost: 0.3821497857570648\n",
            "W: tensor([[-2.8780]]), b: tensor([[8.7235]]), cost: 0.38194167613983154\n",
            "W: tensor([[-2.9155]]), b: tensor([[8.8354]]), cost: 0.38180169463157654\n",
            "W: tensor([[-2.9464]]), b: tensor([[8.9276]]), cost: 0.38170647621154785\n",
            "W: tensor([[-2.9719]]), b: tensor([[9.0041]]), cost: 0.38164111971855164\n",
            "W: tensor([[-2.9932]]), b: tensor([[9.0676]]), cost: 0.3815959692001343\n",
            "W: tensor([[-3.0109]]), b: tensor([[9.1205]]), cost: 0.3815647065639496\n",
            "W: tensor([[-3.0258]]), b: tensor([[9.1647]]), cost: 0.3815428912639618\n",
            "W: tensor([[-3.0382]]), b: tensor([[9.2017]]), cost: 0.38152754306793213\n",
            "W: tensor([[-3.0485]]), b: tensor([[9.2328]]), cost: 0.3815167248249054\n",
            "W: tensor([[-3.0573]]), b: tensor([[9.2588]]), cost: 0.3815091550350189\n",
            "W: tensor([[-3.0646]]), b: tensor([[9.2806]]), cost: 0.3815038204193115\n",
            "W: tensor([[-3.0708]]), b: tensor([[9.2990]]), cost: 0.3815000057220459\n",
            "W: tensor([[-3.0759]]), b: tensor([[9.3145]]), cost: 0.3814972937107086\n",
            "W: tensor([[-3.0803]]), b: tensor([[9.3275]]), cost: 0.38149550557136536\n",
            "W: tensor([[-3.0840]]), b: tensor([[9.3385]]), cost: 0.3814941644668579\n",
            "W: tensor([[-3.0871]]), b: tensor([[9.3477]]), cost: 0.3814931809902191\n",
            "W: tensor([[-3.0897]]), b: tensor([[9.3555]]), cost: 0.3814925253391266\n",
            "W: tensor([[-3.0919]]), b: tensor([[9.3621]]), cost: 0.381492018699646\n",
            "W: tensor([[-3.0938]]), b: tensor([[9.3677]]), cost: 0.38149163126945496\n",
            "W: tensor([[-3.0953]]), b: tensor([[9.3723]]), cost: 0.3814913332462311\n",
            "W: tensor([[-3.0967]]), b: tensor([[9.3763]]), cost: 0.38149118423461914\n"
          ]
        }
      ],
      "source": [
        "import torch\n",
        "\n",
        "x_train = torch.tensor([[1],[2],[3],[4],[5],[2.5],[3.5],[0],[3.1],[2.7],[2.8],[2.9]], dtype=torch.float)\n",
        "y_train = torch.tensor([[1],[1],[1],[0],[0],[0],[0],[1],[0],[1],[1],[1]], dtype=torch.float)\n",
        "\n",
        "W = torch.randn(1, 1)\n",
        "b = torch.randn(1, 1)\n",
        "\n",
        "lr = 1.0\n",
        "\n",
        "for epoch in range(3001):\n",
        "    W.requires_grad_(True)\n",
        "    b.requires_grad_(True)\n",
        "\n",
        "    h = torch.sigmoid(torch.mm(x_train, W) + b)\n",
        "\n",
        "    cost = torch.mean( -y_train * torch.log(h)\n",
        "                     -(1 - y_train) * torch.log(1 - h))\n",
        "    \n",
        "    cost.backward()\n",
        "\n",
        "    with torch.no_grad():\n",
        "        W = W - lr * W.grad\n",
        "        b = b - lr * b.grad\n",
        "\n",
        "        if epoch % 100 == 0:\n",
        "            print(f\"W: {W}, b: {b}, cost: {cost}\")"
      ]
    },
    {
      "cell_type": "code",
      "source": [
        "# x = [4.5] 혹은 [1.1]일 때, y는 0일까 1일까?\n",
        "with torch.no_grad():\n",
        "\n",
        "    x_test = torch.tensor([[4.5], [1.1]], dtype=torch.float)\n",
        "    h_test = torch.sigmoid(torch.mm(x_test, W) + b) # h_test[h_test > 0.5] = 1; h_test[h_test <= 0.5] = 0\n",
        "    print(h_test)"
      ],
      "metadata": {
        "colab": {
          "base_uri": "https://localhost:8080/"
        },
        "id": "3P4sBCgsMyJV",
        "outputId": "6ad08e70-1552-483d-b846-9528e3c4d8c3"
      },
      "execution_count": 8,
      "outputs": [
        {
          "output_type": "stream",
          "name": "stdout",
          "text": [
            "tensor([[0.0104],\n",
            "        [0.9975]])\n"
          ]
        }
      ]
    },
    {
      "cell_type": "code",
      "source": [
        "# optimizer\n",
        "x_train = torch.tensor([[1],[2],[3],[4],[5],[2.5],[3.5],[0],[3.1],[2.7],[2.8],[2.9]], dtype=torch.float)\n",
        "y_train = torch.tensor([[1],[1],[1],[0],[0],[0],[0],[1],[0],[1],[1],[1]], dtype=torch.float)\n",
        "\n",
        "W = torch.randn(1, 1, requires_grad=True)\n",
        "b = torch.randn(1, 1, requires_grad=True)\n",
        "\n",
        "optim = torch.optim.SGD([W,b], lr=1.0)\n",
        "\n",
        "for epoch in range(3001):\n",
        "    h = torch.sigmoid(torch.mm(x_train, W) + b)\n",
        "    cost = torch.mean( -y_train * torch.log(h)\n",
        "                     -(1 - y_train) * torch.log(1 - h))\n",
        "\n",
        "    optim.zero_grad() # 기울기 초기화\n",
        "    cost.backward()   # 기울기 계산\n",
        "    optim.step()      # 갱신\n",
        "\n",
        "    with torch.no_grad():\n",
        "        if epoch % 100 == 0:\n",
        "            print(f\"W: {W.item()}, b: {b.item()}, cost: {cost}\")\n"
      ],
      "metadata": {
        "colab": {
          "base_uri": "https://localhost:8080/"
        },
        "id": "7m-qTCtpN9aw",
        "outputId": "dbca78a7-8b22-4ce1-9223-994572c2ba25"
      },
      "execution_count": 5,
      "outputs": [
        {
          "output_type": "stream",
          "name": "stdout",
          "text": [
            "W: -0.33479630947113037, b: -0.7734742164611816, cost: 1.096813678741455\n",
            "W: -1.4186838865280151, b: 4.306493759155273, cost: 0.42236030101776123\n",
            "W: -1.8804033994674683, b: 5.718951225280762, cost: 0.3993567228317261\n",
            "W: -2.16225528717041, b: 6.573095798492432, cost: 0.3911014497280121\n",
            "W: -2.3585805892944336, b: 7.165259838104248, cost: 0.3871554136276245\n",
            "W: -2.5039992332458496, b: 7.602623462677002, cost: 0.3850080668926239\n",
            "W: -2.6156208515167236, b: 7.937692642211914, cost: 0.3837493360042572\n",
            "W: -2.7033066749572754, b: 8.200549125671387, cost: 0.38297533988952637\n",
            "W: -2.773308038711548, b: 8.41018009185791, cost: 0.38248327374458313\n",
            "W: -2.829852819442749, b: 8.57938003540039, cost: 0.38216283917427063\n",
            "W: -2.8759288787841797, b: 8.717170715332031, cost: 0.38195040822029114\n",
            "W: -2.9137327671051025, b: 8.830168724060059, cost: 0.3818075358867645\n",
            "W: -2.944915771484375, b: 8.923341751098633, cost: 0.381710410118103\n",
            "W: -2.97074556350708, b: 9.000494956970215, cost: 0.3816438615322113\n",
            "W: -2.9922144412994385, b: 9.064605712890625, cost: 0.3815978765487671\n",
            "W: -3.010108470916748, b: 9.118029594421387, cost: 0.3815659284591675\n",
            "W: -3.025057554244995, b: 9.162654876708984, cost: 0.38154375553131104\n",
            "W: -3.0375683307647705, b: 9.199995040893555, cost: 0.38152822852134705\n",
            "W: -3.0480546951293945, b: 9.231289863586426, cost: 0.3815172016620636\n",
            "W: -3.056857109069824, b: 9.257555961608887, cost: 0.3815095126628876\n",
            "W: -3.0642497539520264, b: 9.279614448547363, cost: 0.3815040588378906\n",
            "W: -3.0704665184020996, b: 9.298162460327148, cost: 0.38150015473365784\n",
            "W: -3.0756969451904297, b: 9.313766479492188, cost: 0.38149747252464294\n",
            "W: -3.0801031589508057, b: 9.326910972595215, cost: 0.38149550557136536\n",
            "W: -3.083813190460205, b: 9.337979316711426, cost: 0.3814941346645355\n",
            "W: -3.0869405269622803, b: 9.347308158874512, cost: 0.3814931809902191\n",
            "W: -3.089578151702881, b: 9.355175971984863, cost: 0.3814925253391266\n",
            "W: -3.0918021202087402, b: 9.361809730529785, cost: 0.381492018699646\n",
            "W: -3.0936779975891113, b: 9.36740493774414, cost: 0.38149163126945496\n",
            "W: -3.095261335372925, b: 9.3721284866333, cost: 0.38149145245552063\n",
            "W: -3.0965981483459473, b: 9.376114845275879, cost: 0.38149121403694153\n"
          ]
        }
      ]
    },
    {
      "cell_type": "code",
      "source": [
        "import matplotlib.pyplot as plt\n",
        "W.requires_grad_(False)\n",
        "b.requires_grad_(False)\n",
        "\n",
        "with torch.no_grad():\n",
        "    plt.scatter(x_train, y_train, c=\"black\", label=\"Training data\")\n",
        "\n",
        "    x_tmp = torch.linspace(0, 5, 100).unsqueeze(1)\n",
        "    y_tmp = torch.sigmoid(torch.mm(x_tmp, W) + b)\n",
        "    plt.plot(x_tmp, y_tmp, \":r\", label=\"Fitting line\")\n",
        "    plt.legend()\n",
        "    plt.xlabel(\"Input (X)\")\n",
        "    plt.ylabel(\"Probability of 1 (Y)\")\n",
        "    plt.show()"
      ],
      "metadata": {
        "colab": {
          "base_uri": "https://localhost:8080/",
          "height": 279
        },
        "id": "CXf4bFEhPapt",
        "outputId": "8ac91c70-15af-4fd0-a01d-963428e682e5"
      },
      "execution_count": 17,
      "outputs": [
        {
          "output_type": "display_data",
          "data": {
            "text/plain": [
              "<Figure size 432x288 with 1 Axes>"
            ],
            "image/png": "[encoded data removed]"
          },
          "metadata": {
            "needs_background": "light"
          }
        }
      ]
    },
    {
      "cell_type": "code",
      "source": [
        "# Logistic Regression with sklearn\n",
        "from sklearn.linear_model import LogisticRegression\n",
        "\n",
        "x_train = [[1],[2],[3],[4],[5],[2.5],[3.5],[0],[3.1],[2.7],[2.8],[2.9]]\n",
        "y_train = [1,1,1,0,0,0,0,1,0,1,1,1]\n",
        "\n",
        "model = LogisticRegression(penalty = 'none')\n",
        "model.fit(x_train,  y_train)\n",
        "\n",
        "print(model.coef_, model.intercept_)\n",
        "\n",
        "x_test = [[4.5], [1.1]]\n",
        "test_result = model.predict(x_test)\n",
        "print(test_result)"
      ],
      "metadata": {
        "colab": {
          "base_uri": "https://localhost:8080/"
        },
        "id": "cL53p0BjTpHg",
        "outputId": "3bf8564f-7070-48c1-afaa-fde8597e8e27"
      },
      "execution_count": 18,
      "outputs": [
        {
          "output_type": "stream",
          "name": "stdout",
          "text": [
            "[[-3.10385806]] [9.39776831]\n",
            "[0 1]\n"
          ]
        }
      ]
    }
  ]
}